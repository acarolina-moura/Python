{
 "cells": [
  {
   "cell_type": "code",
   "execution_count": 1,
   "metadata": {},
   "outputs": [
    {
     "name": "stdout",
     "output_type": "stream",
     "text": [
      "Ana\n",
      "You not pass the course!\n"
     ]
    }
   ],
   "source": [
    "name = 'Ana'\n",
    "print(name)\n",
    "\n",
    "def calculate_media (media):\n",
    "    if media >= 60:\n",
    "        print('You pass the course!')\n",
    "    else: \n",
    "        print('You not pass the course!')\n",
    "\n",
    "calculate_media(5)"
   ]
  }
 ],
 "metadata": {
  "kernelspec": {
   "display_name": "Python 3",
   "language": "python",
   "name": "python3"
  },
  "language_info": {
   "codemirror_mode": {
    "name": "ipython",
    "version": 3
   },
   "file_extension": ".py",
   "mimetype": "text/x-python",
   "name": "python",
   "nbconvert_exporter": "python",
   "pygments_lexer": "ipython3",
   "version": "3.12.2"
  }
 },
 "nbformat": 4,
 "nbformat_minor": 2
}
